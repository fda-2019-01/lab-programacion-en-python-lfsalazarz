{
 "cells": [
  {
   "cell_type": "code",
   "execution_count": 5,
   "metadata": {},
   "outputs": [],
   "source": [
    "from itertools import groupby\n",
    "from operator import itemgetter"
   ]
  },
  {
   "cell_type": "code",
   "execution_count": 2,
   "metadata": {},
   "outputs": [],
   "source": [
    "with open('data.csv', 'r') as f:\n",
    "    file = f.readlines()"
   ]
  },
  {
   "cell_type": "code",
   "execution_count": 3,
   "metadata": {},
   "outputs": [],
   "source": [
    "file = [line.replace('\\n', '') for line in file]\n",
    "file = [line.split('\\t') for line in file]"
   ]
  },
  {
   "cell_type": "code",
   "execution_count": 4,
   "metadata": {},
   "outputs": [],
   "source": [
    "with open('data.csv', 'r') as f:\n",
    "    file = f.readlines()\n",
    "    \n",
    "    file = [line.replace('\\n', '') for line in file]\n",
    "    file = [line.split('\\t') for line in file]"
   ]
  },
  {
   "cell_type": "code",
   "execution_count": 4,
   "metadata": {},
   "outputs": [
    {
     "data": {
      "text/plain": [
       "[['E', '1', '1999-02-28', 'b,g,f', 'jjj:3,bbb:0,ddd:9,ggg:8,hhh:2'],\n",
       " ['A', '2', '1999-10-28', 'a,f,c', 'ccc:2,ddd:0,aaa:3,hhh:9'],\n",
       " ['B', '5', '1998-05-02', 'f,e,a,c', 'ddd:2,ggg:5,ccc:6,jjj:1'],\n",
       " ['A', '3', '1999-08-28', 'a,b', 'hhh:9,iii:5,eee:7,bbb:1'],\n",
       " ['C', '6', '1999-12-01', 'f,g,d,a', 'iii:6,ddd:5,eee:4,jjj:3'],\n",
       " ['A', '7', '1998-07-28', 'c,d', 'bbb:2,hhh:0,ccc:4,fff:1,aaa:7'],\n",
       " ['A', '9', '1997-02-28', 'g,d,a', 'aaa:5,fff:8,ddd:2,iii:0,jjj:7,ccc:1'],\n",
       " ['B', '1', '1999-05-10', 'b,a', 'fff:3,hhh:1,ddd:2'],\n",
       " ['E', '2', '1997-04-12', 'd,e,a,f', 'eee:4,ccc:5,iii:9,fff:7,ggg:6,bbb:0'],\n",
       " ['B', '3', '1999-11-23', 'd,b,g,f', 'bbb:7,jjj:9,fff:5,iii:4,ggg:2,eee:3'],\n",
       " ['C', '7', '1998-01-17', 'd,c,f,b', 'hhh:6,eee:4,iii:0,fff:2,jjj:1'],\n",
       " ['C', '5', '1998-12-28', 'd,e,a,c', 'bbb:7,iii:6,ggg:9'],\n",
       " ['D', '3', '1999-10-15', 'g,e,f,b', 'bbb:9,aaa:3,ccc:6,fff:4,eee:2'],\n",
       " ['E', '8', '1998-11-01', 'c,f', 'aaa:8,ddd:5,jjj:1'],\n",
       " ['B', '9', '1999-08-12', 'd,b', 'ccc:0,jjj:6,fff:7,ddd:3,aaa:2'],\n",
       " ['D', '1', '1997-12-01', 'f,e', 'ccc:0,eee:6,bbb:9,ddd:3'],\n",
       " ['E', '3', '1997-07-28', 'e,b,f', 'bbb:6,iii:3,hhh:5,fff:4,ggg:9,ddd:2'],\n",
       " ['D', '5', '1998-08-12', 'g,a', 'hhh:4,jjj:5,ccc:9'],\n",
       " ['E', '8', '1999-08-24', 'e,c,f,a', 'ccc:1,iii:6,fff:9'],\n",
       " ['E', '9', '1998-01-23', 'e,a', 'bbb:9,aaa:3,fff:1'],\n",
       " ['E', '7', '1999-06-22', 'e,f', 'ddd:9,iii:2,aaa:4'],\n",
       " ['E', '3', '1999-04-24', 'c,b,g', 'ccc:5,fff:8,iii:7'],\n",
       " ['D', '5', '1999-06-25', 'c,f,a', 'eee:3,jjj:2,ddd:7'],\n",
       " ['A', '1', '1999-08-25', 'f,a,d', 'jjj:1,ggg:0,ccc:7,ddd:9,bbb:3'],\n",
       " ['E', '4', '1997-07-26', 'c,d', 'jjj:6,ccc:0,aaa:1,hhh:9,iii:7,ggg:8'],\n",
       " ['E', '6', '1997-09-24', 'e,d,c', 'fff:3,eee:6,iii:4,bbb:7,ddd:0,ccc:1'],\n",
       " ['A', '8', '1997-09-28', 'a,e,f', 'fff:0,ddd:5,ccc:4'],\n",
       " ['E', '5', '1999-06-22', 'c,a,g', 'ggg:6,hhh:3,ddd:9,ccc:0,jjj:7'],\n",
       " ['A', '6', '1999-07-29', 'f,e', 'hhh:6,jjj:0,eee:5,iii:7,ccc:3'],\n",
       " ['C', '0', '1999-08-22', 'f,c,a,g', 'eee:1,fff:4,aaa:2,ccc:7,ggg:0,ddd:6'],\n",
       " ['A', '1', '1998-04-26', 'b,f', 'ccc:6,aaa:9,eee:5,ddd:0,bbb:3'],\n",
       " ['D', '2', '1998-02-24', 'b,f', 'bbb:7,hhh:1,aaa:6,iii:4,fff:9,ddd:5'],\n",
       " ['E', '5', '1999-03-24', 'a,c', 'fff:3,ccc:1,ggg:2,eee:5'],\n",
       " ['B', '4', '1998-03-23', 'b,f,c', 'iii:7,ggg:3,ddd:0,jjj:8,hhh:5,ccc:1'],\n",
       " ['B', '6', '1999-04-21', 'f,a,e', 'hhh:6,ccc:3,jjj:0,bbb:8,ddd:7'],\n",
       " ['D', '7', '1999-02-29', 'a,f', 'aaa:0,fff:5,ddd:3'],\n",
       " ['B', '8', '1997-05-21', 'c,a', 'ddd:5,jjj:2,iii:7,ccc:0,bbb:4'],\n",
       " ['C', '9', '1997-07-22', 'c,a,e,f', 'eee:0,fff:2,hhh:6'],\n",
       " ['E', '1', '1999-09-28', 'e,d', 'fff:9,iii:2,eee:0'],\n",
       " ['E', '5', '1998-01-26', 'f,a,d', 'hhh:8,ggg:3,jjj:5']]"
      ]
     },
     "execution_count": 4,
     "metadata": {},
     "output_type": "execute_result"
    }
   ],
   "source": [
    "file"
   ]
  },
  {
   "cell_type": "markdown",
   "metadata": {},
   "source": [
    "### q01.py\n",
    "\n",
    "Imprima la suma de la segunda columna."
   ]
  },
  {
   "cell_type": "code",
   "execution_count": 20,
   "metadata": {},
   "outputs": [
    {
     "data": {
      "text/plain": [
       "190"
      ]
     },
     "execution_count": 20,
     "metadata": {},
     "output_type": "execute_result"
    }
   ],
   "source": [
    "sum([int(row[1]) for row in file])"
   ]
  },
  {
   "cell_type": "markdown",
   "metadata": {},
   "source": [
    "### q02.py\n",
    "~~~\n",
    "## Imprima la cantidad de registros por letra para la \n",
    "## primera columna, ordenados alfabeticamente.  \n",
    "## A,8  \n",
    "## B,7  \n",
    "## C,5  \n",
    "## D,6  \n",
    "## E,14  \n",
    "~~~"
   ]
  },
  {
   "cell_type": "code",
   "execution_count": 27,
   "metadata": {},
   "outputs": [
    {
     "data": {
      "text/plain": [
       "[['A', 8], ['B', 7], ['C', 5], ['D', 6], ['E', 14]]"
      ]
     },
     "execution_count": 27,
     "metadata": {},
     "output_type": "execute_result"
    }
   ],
   "source": [
    "#sorted(mail, key=itemgetter(1)), itemgetter(1)\n",
    "group = [[key, len(list(group))] for key, group in groupby(sorted(file, key=itemgetter(0)), itemgetter(0))]\n",
    "group"
   ]
  },
  {
   "cell_type": "code",
   "execution_count": 30,
   "metadata": {},
   "outputs": [
    {
     "name": "stdout",
     "output_type": "stream",
     "text": [
      "A,8\n",
      "B,7\n",
      "C,5\n",
      "D,6\n",
      "E,14\n"
     ]
    }
   ],
   "source": [
    "for element in group:\n",
    "    print(f'{element[0]},{element[1]}')"
   ]
  },
  {
   "cell_type": "markdown",
   "metadata": {},
   "source": [
    "### q03.py\n",
    "\n",
    "~~~\n",
    "##\n",
    "## Imprima la suma de la columna 2 por cada letra de la \n",
    "## primera columna, ordneados alfabeticamente.\n",
    "##\n",
    "## A,37\n",
    "## B,36\n",
    "## C,27\n",
    "## D,23\n",
    "## E,67\n",
    "##\n",
    "~~~"
   ]
  },
  {
   "cell_type": "code",
   "execution_count": 33,
   "metadata": {},
   "outputs": [
    {
     "name": "stdout",
     "output_type": "stream",
     "text": [
      "A,37\n",
      "B,36\n",
      "C,27\n",
      "D,23\n",
      "E,67\n"
     ]
    }
   ],
   "source": [
    "for key, group in groupby(sorted(file, key=itemgetter(0)), itemgetter(0)):\n",
    "    suma = sum([int(row[1]) for row in group])\n",
    "    print(f'{key},{suma}')"
   ]
  },
  {
   "cell_type": "markdown",
   "metadata": {},
   "source": [
    "### q04.py\n",
    "\n",
    "~~~\n",
    "##\n",
    "## Imprima la cantidad de registros por cada mes.\n",
    "##\n",
    "## 01,3\n",
    "## 02,4\n",
    "## 03,2\n",
    "## 04,4\n",
    "## 05,3\n",
    "## 06,3\n",
    "## 07,5\n",
    "## 08,6\n",
    "## 09,3\n",
    "## 10,2\n",
    "## 11,2\n",
    "## 12,3\n",
    "##\n",
    "~~~"
   ]
  },
  {
   "cell_type": "code",
   "execution_count": 36,
   "metadata": {},
   "outputs": [
    {
     "name": "stdout",
     "output_type": "stream",
     "text": [
      "01,3\n",
      "02,4\n",
      "03,2\n",
      "04,4\n",
      "05,3\n",
      "06,3\n",
      "07,5\n",
      "08,6\n",
      "09,3\n",
      "10,2\n",
      "11,2\n",
      "12,3\n"
     ]
    }
   ],
   "source": [
    "date_file = [row[2].split('-') for row in file]\n",
    "\n",
    "for key, group in groupby(sorted(date_file, key=itemgetter(1)), itemgetter(1)):\n",
    "     print(f'{key},{len(list(group))}')"
   ]
  },
  {
   "cell_type": "markdown",
   "metadata": {},
   "source": [
    "### q05.py\n",
    "\n",
    "~~~\n",
    "##\n",
    "## Imprima el valor maximo y minimo por cada letra de la columa 1.\n",
    "##\n",
    "## A,9,1\n",
    "## B,9,1\n",
    "## C,9,0\n",
    "## D,7,1\n",
    "## E,9,1\n",
    "##\n",
    "~~~"
   ]
  },
  {
   "cell_type": "code",
   "execution_count": 17,
   "metadata": {},
   "outputs": [
    {
     "name": "stdout",
     "output_type": "stream",
     "text": [
      "A,9,1\n",
      "B,9,1\n",
      "C,9,0\n",
      "D,7,1\n",
      "E,9,1\n"
     ]
    }
   ],
   "source": [
    "for key, group in groupby(sorted(file, key=itemgetter(0)), itemgetter(0)):\n",
    "    g = list(group)\n",
    "    max_g = max(int(x[1]) for x in g)\n",
    "    min_g = min(int(x[1]) for x in g)\n",
    "    print(f'{key},{max_g},{min_g}')"
   ]
  },
  {
   "cell_type": "markdown",
   "metadata": {},
   "source": [
    "### q06.py\n",
    "\n",
    "~~~\n",
    "##\n",
    "## Por cada clave de la columna 5 (cadena de tres letras), obtenga\n",
    "## el valor mas pequeño y el valor mas grande asociado a esa clave.\n",
    "##\n",
    "## aaa,0,6\n",
    "## bbb,4,7\n",
    "## ccc,0,1\n",
    "## ddd,5,5\n",
    "## eee,0,0\n",
    "## fff,4,9\n",
    "## ggg,3,3\n",
    "## hhh,6,8\n",
    "## iii,2,7\n",
    "## jjj,2,5\n",
    "##\n",
    "~~~"
   ]
  },
  {
   "cell_type": "code",
   "execution_count": 48,
   "metadata": {},
   "outputs": [],
   "source": [
    "#data_col5 = ','.join([row[4] for row in file]).split(',')\n",
    "#data_col5 = [row.split(':') for row in data_col5]\n",
    "#data_col5"
   ]
  },
  {
   "cell_type": "code",
   "execution_count": 6,
   "metadata": {},
   "outputs": [
    {
     "name": "stdout",
     "output_type": "stream",
     "text": [
      "aaa,0,9\n",
      "bbb,0,9\n",
      "ccc,0,9\n",
      "ddd,0,9\n",
      "eee,0,7\n",
      "fff,0,9\n",
      "ggg,0,9\n",
      "hhh,0,9\n",
      "iii,0,9\n",
      "jjj,0,9\n"
     ]
    }
   ],
   "source": [
    "# flatten the lists\n",
    "# [y for x in list_of_lists for y in x]\n",
    "# for x in list_of_lists:\n",
    "#    for y in x:\n",
    "#        flattened_list.append(y)\n",
    "\n",
    "data_col5 = [y.split(':') for row in file for y in row[4].split(',')]\n",
    "\n",
    "for key, group in groupby(sorted(data_col5, key=itemgetter(0)), itemgetter(0)):\n",
    "    g = list(group)\n",
    "    max_g = max(int(x[1]) for x in g)\n",
    "    min_g = min(int(x[1]) for x in g)\n",
    "    print(f'{key},{min_g},{max_g}')"
   ]
  },
  {
   "cell_type": "code",
   "execution_count": 7,
   "metadata": {
    "scrolled": true
   },
   "outputs": [
    {
     "data": {
      "text/plain": [
       "[['jjj:3', 'bbb:0', 'ddd:9', 'ggg:8', 'hhh:2'],\n",
       " ['ccc:2', 'ddd:0', 'aaa:3', 'hhh:9'],\n",
       " ['ddd:2', 'ggg:5', 'ccc:6', 'jjj:1'],\n",
       " ['hhh:9', 'iii:5', 'eee:7', 'bbb:1'],\n",
       " ['iii:6', 'ddd:5', 'eee:4', 'jjj:3'],\n",
       " ['bbb:2', 'hhh:0', 'ccc:4', 'fff:1', 'aaa:7'],\n",
       " ['aaa:5', 'fff:8', 'ddd:2', 'iii:0', 'jjj:7', 'ccc:1'],\n",
       " ['fff:3', 'hhh:1', 'ddd:2'],\n",
       " ['eee:4', 'ccc:5', 'iii:9', 'fff:7', 'ggg:6', 'bbb:0'],\n",
       " ['bbb:7', 'jjj:9', 'fff:5', 'iii:4', 'ggg:2', 'eee:3'],\n",
       " ['hhh:6', 'eee:4', 'iii:0', 'fff:2', 'jjj:1'],\n",
       " ['bbb:7', 'iii:6', 'ggg:9'],\n",
       " ['bbb:9', 'aaa:3', 'ccc:6', 'fff:4', 'eee:2'],\n",
       " ['aaa:8', 'ddd:5', 'jjj:1'],\n",
       " ['ccc:0', 'jjj:6', 'fff:7', 'ddd:3', 'aaa:2'],\n",
       " ['ccc:0', 'eee:6', 'bbb:9', 'ddd:3'],\n",
       " ['bbb:6', 'iii:3', 'hhh:5', 'fff:4', 'ggg:9', 'ddd:2'],\n",
       " ['hhh:4', 'jjj:5', 'ccc:9'],\n",
       " ['ccc:1', 'iii:6', 'fff:9'],\n",
       " ['bbb:9', 'aaa:3', 'fff:1'],\n",
       " ['ddd:9', 'iii:2', 'aaa:4'],\n",
       " ['ccc:5', 'fff:8', 'iii:7'],\n",
       " ['eee:3', 'jjj:2', 'ddd:7'],\n",
       " ['jjj:1', 'ggg:0', 'ccc:7', 'ddd:9', 'bbb:3'],\n",
       " ['jjj:6', 'ccc:0', 'aaa:1', 'hhh:9', 'iii:7', 'ggg:8'],\n",
       " ['fff:3', 'eee:6', 'iii:4', 'bbb:7', 'ddd:0', 'ccc:1'],\n",
       " ['fff:0', 'ddd:5', 'ccc:4'],\n",
       " ['ggg:6', 'hhh:3', 'ddd:9', 'ccc:0', 'jjj:7'],\n",
       " ['hhh:6', 'jjj:0', 'eee:5', 'iii:7', 'ccc:3'],\n",
       " ['eee:1', 'fff:4', 'aaa:2', 'ccc:7', 'ggg:0', 'ddd:6'],\n",
       " ['ccc:6', 'aaa:9', 'eee:5', 'ddd:0', 'bbb:3'],\n",
       " ['bbb:7', 'hhh:1', 'aaa:6', 'iii:4', 'fff:9', 'ddd:5'],\n",
       " ['fff:3', 'ccc:1', 'ggg:2', 'eee:5'],\n",
       " ['iii:7', 'ggg:3', 'ddd:0', 'jjj:8', 'hhh:5', 'ccc:1'],\n",
       " ['hhh:6', 'ccc:3', 'jjj:0', 'bbb:8', 'ddd:7'],\n",
       " ['aaa:0', 'fff:5', 'ddd:3'],\n",
       " ['ddd:5', 'jjj:2', 'iii:7', 'ccc:0', 'bbb:4'],\n",
       " ['eee:0', 'fff:2', 'hhh:6'],\n",
       " ['fff:9', 'iii:2', 'eee:0'],\n",
       " ['hhh:8', 'ggg:3', 'jjj:5']]"
      ]
     },
     "execution_count": 7,
     "metadata": {},
     "output_type": "execute_result"
    }
   ],
   "source": [
    "[row[4].split(',') for row in file]"
   ]
  },
  {
   "cell_type": "code",
   "execution_count": 8,
   "metadata": {},
   "outputs": [
    {
     "data": {
      "text/plain": [
       "[['jjj', '3'],\n",
       " ['bbb', '0'],\n",
       " ['ddd', '9'],\n",
       " ['ggg', '8'],\n",
       " ['hhh', '2'],\n",
       " ['ccc', '2'],\n",
       " ['ddd', '0'],\n",
       " ['aaa', '3'],\n",
       " ['hhh', '9'],\n",
       " ['ddd', '2'],\n",
       " ['ggg', '5'],\n",
       " ['ccc', '6'],\n",
       " ['jjj', '1'],\n",
       " ['hhh', '9'],\n",
       " ['iii', '5'],\n",
       " ['eee', '7'],\n",
       " ['bbb', '1'],\n",
       " ['iii', '6'],\n",
       " ['ddd', '5'],\n",
       " ['eee', '4'],\n",
       " ['jjj', '3'],\n",
       " ['bbb', '2'],\n",
       " ['hhh', '0'],\n",
       " ['ccc', '4'],\n",
       " ['fff', '1'],\n",
       " ['aaa', '7'],\n",
       " ['aaa', '5'],\n",
       " ['fff', '8'],\n",
       " ['ddd', '2'],\n",
       " ['iii', '0'],\n",
       " ['jjj', '7'],\n",
       " ['ccc', '1'],\n",
       " ['fff', '3'],\n",
       " ['hhh', '1'],\n",
       " ['ddd', '2'],\n",
       " ['eee', '4'],\n",
       " ['ccc', '5'],\n",
       " ['iii', '9'],\n",
       " ['fff', '7'],\n",
       " ['ggg', '6'],\n",
       " ['bbb', '0'],\n",
       " ['bbb', '7'],\n",
       " ['jjj', '9'],\n",
       " ['fff', '5'],\n",
       " ['iii', '4'],\n",
       " ['ggg', '2'],\n",
       " ['eee', '3'],\n",
       " ['hhh', '6'],\n",
       " ['eee', '4'],\n",
       " ['iii', '0'],\n",
       " ['fff', '2'],\n",
       " ['jjj', '1'],\n",
       " ['bbb', '7'],\n",
       " ['iii', '6'],\n",
       " ['ggg', '9'],\n",
       " ['bbb', '9'],\n",
       " ['aaa', '3'],\n",
       " ['ccc', '6'],\n",
       " ['fff', '4'],\n",
       " ['eee', '2'],\n",
       " ['aaa', '8'],\n",
       " ['ddd', '5'],\n",
       " ['jjj', '1'],\n",
       " ['ccc', '0'],\n",
       " ['jjj', '6'],\n",
       " ['fff', '7'],\n",
       " ['ddd', '3'],\n",
       " ['aaa', '2'],\n",
       " ['ccc', '0'],\n",
       " ['eee', '6'],\n",
       " ['bbb', '9'],\n",
       " ['ddd', '3'],\n",
       " ['bbb', '6'],\n",
       " ['iii', '3'],\n",
       " ['hhh', '5'],\n",
       " ['fff', '4'],\n",
       " ['ggg', '9'],\n",
       " ['ddd', '2'],\n",
       " ['hhh', '4'],\n",
       " ['jjj', '5'],\n",
       " ['ccc', '9'],\n",
       " ['ccc', '1'],\n",
       " ['iii', '6'],\n",
       " ['fff', '9'],\n",
       " ['bbb', '9'],\n",
       " ['aaa', '3'],\n",
       " ['fff', '1'],\n",
       " ['ddd', '9'],\n",
       " ['iii', '2'],\n",
       " ['aaa', '4'],\n",
       " ['ccc', '5'],\n",
       " ['fff', '8'],\n",
       " ['iii', '7'],\n",
       " ['eee', '3'],\n",
       " ['jjj', '2'],\n",
       " ['ddd', '7'],\n",
       " ['jjj', '1'],\n",
       " ['ggg', '0'],\n",
       " ['ccc', '7'],\n",
       " ['ddd', '9'],\n",
       " ['bbb', '3'],\n",
       " ['jjj', '6'],\n",
       " ['ccc', '0'],\n",
       " ['aaa', '1'],\n",
       " ['hhh', '9'],\n",
       " ['iii', '7'],\n",
       " ['ggg', '8'],\n",
       " ['fff', '3'],\n",
       " ['eee', '6'],\n",
       " ['iii', '4'],\n",
       " ['bbb', '7'],\n",
       " ['ddd', '0'],\n",
       " ['ccc', '1'],\n",
       " ['fff', '0'],\n",
       " ['ddd', '5'],\n",
       " ['ccc', '4'],\n",
       " ['ggg', '6'],\n",
       " ['hhh', '3'],\n",
       " ['ddd', '9'],\n",
       " ['ccc', '0'],\n",
       " ['jjj', '7'],\n",
       " ['hhh', '6'],\n",
       " ['jjj', '0'],\n",
       " ['eee', '5'],\n",
       " ['iii', '7'],\n",
       " ['ccc', '3'],\n",
       " ['eee', '1'],\n",
       " ['fff', '4'],\n",
       " ['aaa', '2'],\n",
       " ['ccc', '7'],\n",
       " ['ggg', '0'],\n",
       " ['ddd', '6'],\n",
       " ['ccc', '6'],\n",
       " ['aaa', '9'],\n",
       " ['eee', '5'],\n",
       " ['ddd', '0'],\n",
       " ['bbb', '3'],\n",
       " ['bbb', '7'],\n",
       " ['hhh', '1'],\n",
       " ['aaa', '6'],\n",
       " ['iii', '4'],\n",
       " ['fff', '9'],\n",
       " ['ddd', '5'],\n",
       " ['fff', '3'],\n",
       " ['ccc', '1'],\n",
       " ['ggg', '2'],\n",
       " ['eee', '5'],\n",
       " ['iii', '7'],\n",
       " ['ggg', '3'],\n",
       " ['ddd', '0'],\n",
       " ['jjj', '8'],\n",
       " ['hhh', '5'],\n",
       " ['ccc', '1'],\n",
       " ['hhh', '6'],\n",
       " ['ccc', '3'],\n",
       " ['jjj', '0'],\n",
       " ['bbb', '8'],\n",
       " ['ddd', '7'],\n",
       " ['aaa', '0'],\n",
       " ['fff', '5'],\n",
       " ['ddd', '3'],\n",
       " ['ddd', '5'],\n",
       " ['jjj', '2'],\n",
       " ['iii', '7'],\n",
       " ['ccc', '0'],\n",
       " ['bbb', '4'],\n",
       " ['eee', '0'],\n",
       " ['fff', '2'],\n",
       " ['hhh', '6'],\n",
       " ['fff', '9'],\n",
       " ['iii', '2'],\n",
       " ['eee', '0'],\n",
       " ['hhh', '8'],\n",
       " ['ggg', '3'],\n",
       " ['jjj', '5']]"
      ]
     },
     "execution_count": 8,
     "metadata": {},
     "output_type": "execute_result"
    }
   ],
   "source": [
    "[y.split(':') for row in file for y in row[4].split(',')]"
   ]
  },
  {
   "cell_type": "code",
   "execution_count": 9,
   "metadata": {},
   "outputs": [
    {
     "name": "stdout",
     "output_type": "stream",
     "text": [
      "aaa\n",
      "    ['aaa', '3']\n",
      "    ['aaa', '7']\n",
      "    ['aaa', '5']\n",
      "    ['aaa', '3']\n",
      "    ['aaa', '8']\n",
      "    ['aaa', '2']\n",
      "    ['aaa', '3']\n",
      "    ['aaa', '4']\n",
      "    ['aaa', '1']\n",
      "    ['aaa', '2']\n",
      "    ['aaa', '9']\n",
      "    ['aaa', '6']\n",
      "    ['aaa', '0']\n",
      "bbb\n",
      "    ['bbb', '0']\n",
      "    ['bbb', '1']\n",
      "    ['bbb', '2']\n",
      "    ['bbb', '0']\n",
      "    ['bbb', '7']\n",
      "    ['bbb', '7']\n",
      "    ['bbb', '9']\n",
      "    ['bbb', '9']\n",
      "    ['bbb', '6']\n",
      "    ['bbb', '9']\n",
      "    ['bbb', '3']\n",
      "    ['bbb', '7']\n",
      "    ['bbb', '3']\n",
      "    ['bbb', '7']\n",
      "    ['bbb', '8']\n",
      "    ['bbb', '4']\n",
      "ccc\n",
      "    ['ccc', '2']\n",
      "    ['ccc', '6']\n",
      "    ['ccc', '4']\n",
      "    ['ccc', '1']\n",
      "    ['ccc', '5']\n",
      "    ['ccc', '6']\n",
      "    ['ccc', '0']\n",
      "    ['ccc', '0']\n",
      "    ['ccc', '9']\n",
      "    ['ccc', '1']\n",
      "    ['ccc', '5']\n",
      "    ['ccc', '7']\n",
      "    ['ccc', '0']\n",
      "    ['ccc', '1']\n",
      "    ['ccc', '4']\n",
      "    ['ccc', '0']\n",
      "    ['ccc', '3']\n",
      "    ['ccc', '7']\n",
      "    ['ccc', '6']\n",
      "    ['ccc', '1']\n",
      "    ['ccc', '1']\n",
      "    ['ccc', '3']\n",
      "    ['ccc', '0']\n",
      "ddd\n",
      "    ['ddd', '9']\n",
      "    ['ddd', '0']\n",
      "    ['ddd', '2']\n",
      "    ['ddd', '5']\n",
      "    ['ddd', '2']\n",
      "    ['ddd', '2']\n",
      "    ['ddd', '5']\n",
      "    ['ddd', '3']\n",
      "    ['ddd', '3']\n",
      "    ['ddd', '2']\n",
      "    ['ddd', '9']\n",
      "    ['ddd', '7']\n",
      "    ['ddd', '9']\n",
      "    ['ddd', '0']\n",
      "    ['ddd', '5']\n",
      "    ['ddd', '9']\n",
      "    ['ddd', '6']\n",
      "    ['ddd', '0']\n",
      "    ['ddd', '5']\n",
      "    ['ddd', '0']\n",
      "    ['ddd', '7']\n",
      "    ['ddd', '3']\n",
      "    ['ddd', '5']\n",
      "eee\n",
      "    ['eee', '7']\n",
      "    ['eee', '4']\n",
      "    ['eee', '4']\n",
      "    ['eee', '3']\n",
      "    ['eee', '4']\n",
      "    ['eee', '2']\n",
      "    ['eee', '6']\n",
      "    ['eee', '3']\n",
      "    ['eee', '6']\n",
      "    ['eee', '5']\n",
      "    ['eee', '1']\n",
      "    ['eee', '5']\n",
      "    ['eee', '5']\n",
      "    ['eee', '0']\n",
      "    ['eee', '0']\n",
      "fff\n",
      "    ['fff', '1']\n",
      "    ['fff', '8']\n",
      "    ['fff', '3']\n",
      "    ['fff', '7']\n",
      "    ['fff', '5']\n",
      "    ['fff', '2']\n",
      "    ['fff', '4']\n",
      "    ['fff', '7']\n",
      "    ['fff', '4']\n",
      "    ['fff', '9']\n",
      "    ['fff', '1']\n",
      "    ['fff', '8']\n",
      "    ['fff', '3']\n",
      "    ['fff', '0']\n",
      "    ['fff', '4']\n",
      "    ['fff', '9']\n",
      "    ['fff', '3']\n",
      "    ['fff', '5']\n",
      "    ['fff', '2']\n",
      "    ['fff', '9']\n",
      "ggg\n",
      "    ['ggg', '8']\n",
      "    ['ggg', '5']\n",
      "    ['ggg', '6']\n",
      "    ['ggg', '2']\n",
      "    ['ggg', '9']\n",
      "    ['ggg', '9']\n",
      "    ['ggg', '0']\n",
      "    ['ggg', '8']\n",
      "    ['ggg', '6']\n",
      "    ['ggg', '0']\n",
      "    ['ggg', '2']\n",
      "    ['ggg', '3']\n",
      "    ['ggg', '3']\n",
      "hhh\n",
      "    ['hhh', '2']\n",
      "    ['hhh', '9']\n",
      "    ['hhh', '9']\n",
      "    ['hhh', '0']\n",
      "    ['hhh', '1']\n",
      "    ['hhh', '6']\n",
      "    ['hhh', '5']\n",
      "    ['hhh', '4']\n",
      "    ['hhh', '9']\n",
      "    ['hhh', '3']\n",
      "    ['hhh', '6']\n",
      "    ['hhh', '1']\n",
      "    ['hhh', '5']\n",
      "    ['hhh', '6']\n",
      "    ['hhh', '6']\n",
      "    ['hhh', '8']\n",
      "iii\n",
      "    ['iii', '5']\n",
      "    ['iii', '6']\n",
      "    ['iii', '0']\n",
      "    ['iii', '9']\n",
      "    ['iii', '4']\n",
      "    ['iii', '0']\n",
      "    ['iii', '6']\n",
      "    ['iii', '3']\n",
      "    ['iii', '6']\n",
      "    ['iii', '2']\n",
      "    ['iii', '7']\n",
      "    ['iii', '7']\n",
      "    ['iii', '4']\n",
      "    ['iii', '7']\n",
      "    ['iii', '4']\n",
      "    ['iii', '7']\n",
      "    ['iii', '7']\n",
      "    ['iii', '2']\n",
      "jjj\n",
      "    ['jjj', '3']\n",
      "    ['jjj', '1']\n",
      "    ['jjj', '3']\n",
      "    ['jjj', '7']\n",
      "    ['jjj', '9']\n",
      "    ['jjj', '1']\n",
      "    ['jjj', '1']\n",
      "    ['jjj', '6']\n",
      "    ['jjj', '5']\n",
      "    ['jjj', '2']\n",
      "    ['jjj', '1']\n",
      "    ['jjj', '6']\n",
      "    ['jjj', '7']\n",
      "    ['jjj', '0']\n",
      "    ['jjj', '8']\n",
      "    ['jjj', '0']\n",
      "    ['jjj', '2']\n",
      "    ['jjj', '5']\n"
     ]
    }
   ],
   "source": [
    "data_col5 = [y.split(':') for row in file for y in row[4].split(',')]\n",
    "for key, group in groupby(sorted(data_col5, key=itemgetter(0)), itemgetter(0)):\n",
    "    print(key)\n",
    "    for g in group:\n",
    "        print('   ', g)"
   ]
  },
  {
   "cell_type": "markdown",
   "metadata": {},
   "source": [
    "### q07.py\n",
    "~~~\n",
    "##\n",
    "## Genere una lista de tuplas, donde cada tupla contiene en la primera \n",
    "## posicion, el valor de la segunda columna; la segunda parte de la \n",
    "## tupla es una lista con las letras de la primera columna que aparecen\n",
    "## asociadas a dicho valor de la segunda columna. Esto es:\n",
    "##\n",
    "##    ('0', ['C'])\n",
    "##    ('1', ['E', 'B', 'D', 'A', 'A', 'E'])\n",
    "##    ('2', ['A', 'E', 'D'])\n",
    "##    ('3', ['A', 'B', 'D', 'E', 'E'])\n",
    "##    ('4', ['E', 'B'])\n",
    "##    ('5', ['B', 'C', 'D', 'D', 'E', 'E', 'E'])\n",
    "##    ('6', ['C', 'E', 'A', 'B'])\n",
    "##    ('7', ['A', 'C', 'E', 'D'])\n",
    "##    ('8', ['E', 'E', 'A', 'B'])\n",
    "##    ('9', ['A', 'B', 'E', 'C'])\n",
    "##\n",
    "##\n",
    "~~~"
   ]
  },
  {
   "cell_type": "code",
   "execution_count": 57,
   "metadata": {},
   "outputs": [
    {
     "name": "stdout",
     "output_type": "stream",
     "text": [
      "('0', ['C'])\n",
      "('1', ['E', 'B', 'D', 'A', 'A', 'E'])\n",
      "('2', ['A', 'E', 'D'])\n",
      "('3', ['A', 'B', 'D', 'E', 'E'])\n",
      "('4', ['E', 'B'])\n",
      "('5', ['B', 'C', 'D', 'D', 'E', 'E', 'E'])\n",
      "('6', ['C', 'E', 'A', 'B'])\n",
      "('7', ['A', 'C', 'E', 'D'])\n",
      "('8', ['E', 'E', 'A', 'B'])\n",
      "('9', ['A', 'B', 'E', 'C'])\n"
     ]
    }
   ],
   "source": [
    "for key, group in groupby(sorted(file, key=itemgetter(1)), itemgetter(1)):\n",
    "    print((\n",
    "        (key, [l[0] for l in list(group)])\n",
    "    ))"
   ]
  },
  {
   "cell_type": "markdown",
   "metadata": {},
   "source": [
    "### q08.py\n",
    "\n",
    "~~~\n",
    "##\n",
    "## Genere una lista de tuplas, donde cada tupla contiene en la primera \n",
    "## posicion, el valor de la segunda columna; la segunda parte de la \n",
    "## tupla es una lista con las letras (ordenadas) de la primera \n",
    "## columna que aparecen asociadas a dicho valor de la segunda \n",
    "## columna. Esto es:\n",
    "##\n",
    "## ('0', ['C'])\n",
    "## ('1', ['A', 'A', 'B', 'D', 'E', 'E'])\n",
    "## ('2', ['A', 'D', 'E'])\n",
    "## ('3', ['A', 'B', 'D', 'E', 'E'])\n",
    "## ('4', ['B', 'E'])\n",
    "## ('5', ['B', 'C', 'D', 'D', 'E', 'E', 'E'])\n",
    "## ('6', ['A', 'B', 'C', 'E'])\n",
    "## ('7', ['A', 'C', 'D', 'E'])\n",
    "## ('8', ['A', 'B', 'E', 'E'])\n",
    "## ('9', ['A', 'B', 'C', 'E'])\n",
    "##\n",
    "##\n",
    "~~~"
   ]
  },
  {
   "cell_type": "code",
   "execution_count": 59,
   "metadata": {},
   "outputs": [
    {
     "name": "stdout",
     "output_type": "stream",
     "text": [
      "('0', ['C'])\n",
      "('1', ['A', 'A', 'B', 'D', 'E', 'E'])\n",
      "('2', ['A', 'D', 'E'])\n",
      "('3', ['A', 'B', 'D', 'E', 'E'])\n",
      "('4', ['B', 'E'])\n",
      "('5', ['B', 'C', 'D', 'D', 'E', 'E', 'E'])\n",
      "('6', ['A', 'B', 'C', 'E'])\n",
      "('7', ['A', 'C', 'D', 'E'])\n",
      "('8', ['A', 'B', 'E', 'E'])\n",
      "('9', ['A', 'B', 'C', 'E'])\n"
     ]
    }
   ],
   "source": [
    "for key, group in groupby(sorted(file, key=itemgetter(1)), itemgetter(1)):\n",
    "    print((\n",
    "        (key, sorted([l[0] for l in list(group)]))\n",
    "    ))"
   ]
  },
  {
   "cell_type": "markdown",
   "metadata": {},
   "source": [
    "### q09.py\n",
    "\n",
    "~~~\n",
    "##\n",
    "## Genere una lista de tuplas, donde cada tupla contiene en la primera \n",
    "## posicion, el valor de la segunda columna; la segunda parte de la \n",
    "## tupla es una lista con las letras (ordenadas y sin repetir letra) \n",
    "## de la primera  columna que aparecen asociadas a dicho valor de la \n",
    "## segunda columna. Esto es:\n",
    "##\n",
    "## ('0', ['C'])\n",
    "## ('1', ['A', 'B', 'D', 'E'])\n",
    "## ('2', ['A', 'D', 'E'])\n",
    "## ('3', ['A', 'B', 'D', 'E'])\n",
    "## ('4', ['B', 'E'])\n",
    "## ('5', ['B', 'C', 'D', 'E'])\n",
    "## ('6', ['A', 'B', 'C', 'E'])\n",
    "## ('7', ['A', 'C', 'D', 'E'])\n",
    "## ('8', ['A', 'B', 'E'])\n",
    "## ('9', ['A', 'B', 'C', 'E'])\n",
    "##\n",
    "##\n",
    "~~~"
   ]
  },
  {
   "cell_type": "code",
   "execution_count": 60,
   "metadata": {},
   "outputs": [
    {
     "name": "stdout",
     "output_type": "stream",
     "text": [
      "('0', ['C'])\n",
      "('1', ['A', 'B', 'D', 'E'])\n",
      "('2', ['A', 'D', 'E'])\n",
      "('3', ['A', 'B', 'D', 'E'])\n",
      "('4', ['B', 'E'])\n",
      "('5', ['B', 'C', 'D', 'E'])\n",
      "('6', ['A', 'B', 'C', 'E'])\n",
      "('7', ['A', 'C', 'D', 'E'])\n",
      "('8', ['A', 'B', 'E'])\n",
      "('9', ['A', 'B', 'C', 'E'])\n"
     ]
    }
   ],
   "source": [
    "for key, group in groupby(sorted(file, key=itemgetter(1)), itemgetter(1)):\n",
    "    print((\n",
    "        (key, sorted(list(set([l[0] for l in list(group)]))))\n",
    "    ))"
   ]
  },
  {
   "cell_type": "markdown",
   "metadata": {},
   "source": [
    "### q10.py\n",
    "\n",
    "~~~\n",
    "##\n",
    "## Imprima una tabla en formato CSV que contenga por cada clave \n",
    "## de la columna 5, la correspondiente cantidad de registros \n",
    "## asociados (filas en el archivo)\n",
    "##\n",
    "## aaa,13\n",
    "## bbb,16\n",
    "## ccc,23\n",
    "## ddd,23\n",
    "## eee,15\n",
    "## fff,20\n",
    "## ggg,13\n",
    "## hhh,16\n",
    "## iii,18\n",
    "## jjj,18\n",
    "##\n",
    "##\n",
    "~~~"
   ]
  },
  {
   "cell_type": "code",
   "execution_count": 74,
   "metadata": {},
   "outputs": [
    {
     "name": "stdout",
     "output_type": "stream",
     "text": [
      "aaa,13\n",
      "bbb,16\n",
      "ccc,23\n",
      "ddd,23\n",
      "eee,15\n",
      "fff,20\n",
      "ggg,13\n",
      "hhh,16\n",
      "iii,18\n",
      "jjj,18\n"
     ]
    }
   ],
   "source": [
    "data_col5 = [y.split(':')[0] for row in file for y in row[4].split(',')]\n",
    "keys = sorted(list(set(data_col5)))\n",
    "tabla = [(key,data_col5.count(key)) for key in keys]\n",
    "\n",
    "for k,c in tabla:\n",
    "    print(f'{k},{c}')"
   ]
  },
  {
   "cell_type": "markdown",
   "metadata": {},
   "source": [
    "### q11.py\n",
    "\n",
    "~~~\n",
    "##\n",
    "## Imprima una tabla en formato CSV que contenga por registro,\n",
    "## la cantidad de elementos de las columnas 4 y 5\n",
    "## (filas en el archivo)\n",
    "##\n",
    "## E,3,5\n",
    "## A,3,4\n",
    "## B,4,4\n",
    "## ...\n",
    "## C,4,3\n",
    "## E,2,3\n",
    "## E,3,3\n",
    "##\n",
    "~~~"
   ]
  },
  {
   "cell_type": "code",
   "execution_count": 85,
   "metadata": {},
   "outputs": [
    {
     "name": "stdout",
     "output_type": "stream",
     "text": [
      "E,3,5\n",
      "A,3,4\n",
      "B,4,4\n",
      "A,2,4\n",
      "C,4,4\n",
      "A,2,5\n",
      "A,3,6\n",
      "B,2,3\n",
      "E,4,6\n",
      "B,4,6\n",
      "C,4,5\n",
      "C,4,3\n",
      "D,4,5\n",
      "E,2,3\n",
      "B,2,5\n",
      "D,2,4\n",
      "E,3,6\n",
      "D,2,3\n",
      "E,4,3\n",
      "E,2,3\n",
      "E,2,3\n",
      "E,3,3\n",
      "D,3,3\n",
      "A,3,5\n",
      "E,2,6\n",
      "E,3,6\n",
      "A,3,3\n",
      "E,3,5\n",
      "A,2,5\n",
      "C,4,6\n",
      "A,2,5\n",
      "D,2,6\n",
      "E,2,4\n",
      "B,3,6\n",
      "B,3,5\n",
      "D,2,3\n",
      "B,2,5\n",
      "C,4,3\n",
      "E,2,3\n",
      "E,3,3\n"
     ]
    }
   ],
   "source": [
    "tabla = [[row[0], len(row[3].split(',')), len(row[4].split(','))] for row in file]\n",
    "for r, c4, c5 in tabla:\n",
    "    print(f'{r},{c4},{c5}')"
   ]
  },
  {
   "cell_type": "markdown",
   "metadata": {},
   "source": [
    "### q12.py\n",
    "\n",
    "~~~\n",
    "##\n",
    "## Imprima la suma de la columna 2 por cada letra \n",
    "## de la columna 4, ordnados alfabeticamente.\n",
    "##\n",
    "## a,114\n",
    "## b,40\n",
    "## c,91\n",
    "## d,65\n",
    "## e,79\n",
    "## f,110\n",
    "## g,35\n",
    "##\n",
    "~~~"
   ]
  },
  {
   "cell_type": "code",
   "execution_count": 93,
   "metadata": {
    "scrolled": true
   },
   "outputs": [],
   "source": [
    "#[[row[3].split(','), row[1]] for row in file]"
   ]
  },
  {
   "cell_type": "code",
   "execution_count": 97,
   "metadata": {},
   "outputs": [
    {
     "name": "stdout",
     "output_type": "stream",
     "text": [
      "a,114\n",
      "b,40\n",
      "c,91\n",
      "d,65\n",
      "e,79\n",
      "f,110\n",
      "g,35\n"
     ]
    }
   ],
   "source": [
    "letras = [[letra, row[1]] for row in file for letra in row[3].split(',')]\n",
    "for key, group in groupby(sorted(letras, key=itemgetter(0)), itemgetter(0)):\n",
    "    print(f'{key},{sum([int(g[1]) for g in group])}')"
   ]
  },
  {
   "cell_type": "markdown",
   "metadata": {},
   "source": [
    "### q13.py\n",
    "\n",
    "~~~\n",
    "##\n",
    "## Imprima por cada fila, la columna 1 y la suma de los valores\n",
    "## de la columna 5\n",
    "##\n",
    "## E,22\n",
    "## A,14\n",
    "## B,14\n",
    "## ....\n",
    "## C,8\n",
    "## E,11\n",
    "## E,16\n",
    "##\n",
    "~~~"
   ]
  },
  {
   "cell_type": "code",
   "execution_count": 109,
   "metadata": {},
   "outputs": [
    {
     "name": "stdout",
     "output_type": "stream",
     "text": [
      "E,22\n",
      "A,14\n",
      "B,14\n",
      "A,22\n",
      "C,18\n",
      "A,14\n",
      "A,23\n",
      "B,6\n",
      "E,31\n",
      "B,30\n",
      "C,13\n",
      "C,22\n",
      "D,24\n",
      "E,14\n",
      "B,18\n",
      "D,18\n",
      "E,29\n",
      "D,18\n",
      "E,16\n",
      "E,13\n",
      "E,15\n",
      "E,20\n",
      "D,12\n",
      "A,20\n",
      "E,31\n",
      "E,21\n",
      "A,9\n",
      "E,25\n",
      "A,21\n",
      "C,20\n",
      "A,23\n",
      "D,32\n",
      "E,11\n",
      "B,24\n",
      "B,24\n",
      "D,8\n",
      "B,18\n",
      "C,8\n",
      "E,11\n",
      "E,16\n"
     ]
    }
   ],
   "source": [
    "filas = [[row[0], sum([int(col.split(':')[1]) for col in row[4].split(',')])] for row in file]\n",
    "for letra, suma in filas:\n",
    "    print(f'{letra},{suma}')"
   ]
  }
 ],
 "metadata": {
  "kernelspec": {
   "display_name": "Python 3",
   "language": "python",
   "name": "python3"
  },
  "language_info": {
   "codemirror_mode": {
    "name": "ipython",
    "version": 3
   },
   "file_extension": ".py",
   "mimetype": "text/x-python",
   "name": "python",
   "nbconvert_exporter": "python",
   "pygments_lexer": "ipython3",
   "version": "3.6.7"
  }
 },
 "nbformat": 4,
 "nbformat_minor": 2
}
