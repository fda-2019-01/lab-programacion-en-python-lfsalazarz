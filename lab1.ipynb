{
 "cells": [
  {
   "cell_type": "code",
   "execution_count": 7,
   "metadata": {},
   "outputs": [],
   "source": [
    "with open('data.csv', 'r') as f:\n",
    "    file = f.readlines()"
   ]
  },
  {
   "cell_type": "code",
   "execution_count": 9,
   "metadata": {},
   "outputs": [],
   "source": [
    "file = [line.replace('\\n', '') for line in file]\n",
    "file = [line.split('\\t') for line in file]"
   ]
  },
  {
   "cell_type": "code",
   "execution_count": null,
   "metadata": {},
   "outputs": [],
   "source": [
    "with open('data.csv', 'r') as f:\n",
    "    file = f.readlines()\n",
    "    \n",
    "    file = [line.replace('\\n', '') for line in file]\n",
    "    file = [line.split('\\t') for line in file]"
   ]
  },
  {
   "cell_type": "code",
   "execution_count": 21,
   "metadata": {},
   "outputs": [
    {
     "data": {
      "text/plain": [
       "[['E', '1', '1999-02-28', 'b,g,f', 'jjj:3,bbb:0,ddd:9,ggg:8,hhh:2'],\n",
       " ['A', '2', '1999-10-28', 'a,f,c', 'ccc:2,ddd:0,aaa:3,hhh:9'],\n",
       " ['B', '5', '1998-05-02', 'f,e,a,c', 'ddd:2,ggg:5,ccc:6,jjj:1'],\n",
       " ['A', '3', '1999-08-28', 'a,b', 'hhh:9,iii:5,eee:7,bbb:1'],\n",
       " ['C', '6', '1999-12-01', 'f,g,d,a', 'iii:6,ddd:5,eee:4,jjj:3'],\n",
       " ['A', '7', '1998-07-28', 'c,d', 'bbb:2,hhh:0,ccc:4,fff:1,aaa:7'],\n",
       " ['A', '9', '1997-02-28', 'g,d,a', 'aaa:5,fff:8,ddd:2,iii:0,jjj:7,ccc:1'],\n",
       " ['B', '1', '1999-05-10', 'b,a', 'fff:3,hhh:1,ddd:2'],\n",
       " ['E', '2', '1997-04-12', 'd,e,a,f', 'eee:4,ccc:5,iii:9,fff:7,ggg:6,bbb:0'],\n",
       " ['B', '3', '1999-11-23', 'd,b,g,f', 'bbb:7,jjj:9,fff:5,iii:4,ggg:2,eee:3'],\n",
       " ['C', '7', '1998-01-17', 'd,c,f,b', 'hhh:6,eee:4,iii:0,fff:2,jjj:1'],\n",
       " ['C', '5', '1998-12-28', 'd,e,a,c', 'bbb:7,iii:6,ggg:9'],\n",
       " ['D', '3', '1999-10-15', 'g,e,f,b', 'bbb:9,aaa:3,ccc:6,fff:4,eee:2'],\n",
       " ['E', '8', '1998-11-01', 'c,f', 'aaa:8,ddd:5,jjj:1'],\n",
       " ['B', '9', '1999-08-12', 'd,b', 'ccc:0,jjj:6,fff:7,ddd:3,aaa:2'],\n",
       " ['D', '1', '1997-12-01', 'f,e', 'ccc:0,eee:6,bbb:9,ddd:3'],\n",
       " ['E', '3', '1997-07-28', 'e,b,f', 'bbb:6,iii:3,hhh:5,fff:4,ggg:9,ddd:2'],\n",
       " ['D', '5', '1998-08-12', 'g,a', 'hhh:4,jjj:5,ccc:9'],\n",
       " ['E', '8', '1999-08-24', 'e,c,f,a', 'ccc:1,iii:6,fff:9'],\n",
       " ['E', '9', '1998-01-23', 'e,a', 'bbb:9,aaa:3,fff:1'],\n",
       " ['E', '7', '1999-06-22', 'e,f', 'ddd:9,iii:2,aaa:4'],\n",
       " ['E', '3', '1999-04-24', 'c,b,g', 'ccc:5,fff:8,iii:7'],\n",
       " ['D', '5', '1999-06-25', 'c,f,a', 'eee:3,jjj:2,ddd:7'],\n",
       " ['A', '1', '1999-08-25', 'f,a,d', 'jjj:1,ggg:0,ccc:7,ddd:9,bbb:3'],\n",
       " ['E', '4', '1997-07-26', 'c,d', 'jjj:6,ccc:0,aaa:1,hhh:9,iii:7,ggg:8'],\n",
       " ['E', '6', '1997-09-24', 'e,d,c', 'fff:3,eee:6,iii:4,bbb:7,ddd:0,ccc:1'],\n",
       " ['A', '8', '1997-09-28', 'a,e,f', 'fff:0,ddd:5,ccc:4'],\n",
       " ['E', '5', '1999-06-22', 'c,a,g', 'ggg:6,hhh:3,ddd:9,ccc:0,jjj:7'],\n",
       " ['A', '6', '1999-07-29', 'f,e', 'hhh:6,jjj:0,eee:5,iii:7,ccc:3'],\n",
       " ['C', '0', '1999-08-22', 'f,c,a,g', 'eee:1,fff:4,aaa:2,ccc:7,ggg:0,ddd:6'],\n",
       " ['A', '1', '1998-04-26', 'b,f', 'ccc:6,aaa:9,eee:5,ddd:0,bbb:3'],\n",
       " ['D', '2', '1998-02-24', 'b,f', 'bbb:7,hhh:1,aaa:6,iii:4,fff:9,ddd:5'],\n",
       " ['E', '5', '1999-03-24', 'a,c', 'fff:3,ccc:1,ggg:2,eee:5'],\n",
       " ['B', '4', '1998-03-23', 'b,f,c', 'iii:7,ggg:3,ddd:0,jjj:8,hhh:5,ccc:1'],\n",
       " ['B', '6', '1999-04-21', 'f,a,e', 'hhh:6,ccc:3,jjj:0,bbb:8,ddd:7'],\n",
       " ['D', '7', '1999-02-29', 'a,f', 'aaa:0,fff:5,ddd:3'],\n",
       " ['B', '8', '1997-05-21', 'c,a', 'ddd:5,jjj:2,iii:7,ccc:0,bbb:4'],\n",
       " ['C', '9', '1997-07-22', 'c,a,e,f', 'eee:0,fff:2,hhh:6'],\n",
       " ['E', '1', '1999-09-28', 'e,d', 'fff:9,iii:2,eee:0'],\n",
       " ['E', '5', '1998-01-26', 'f,a,d', 'hhh:8,ggg:3,jjj:5']]"
      ]
     },
     "execution_count": 21,
     "metadata": {},
     "output_type": "execute_result"
    }
   ],
   "source": [
    "file"
   ]
  },
  {
   "cell_type": "markdown",
   "metadata": {},
   "source": [
    "### q01.py\n",
    "\n",
    "Imprima la suma de la segunda columna."
   ]
  },
  {
   "cell_type": "code",
   "execution_count": 20,
   "metadata": {},
   "outputs": [
    {
     "data": {
      "text/plain": [
       "190"
      ]
     },
     "execution_count": 20,
     "metadata": {},
     "output_type": "execute_result"
    }
   ],
   "source": [
    "sum([int(row[1]) for row in file])"
   ]
  },
  {
   "cell_type": "markdown",
   "metadata": {},
   "source": [
    "### q02.py\n",
    "~~~\n",
    "## Imprima la cantidad de registros por letra para la \n",
    "## primera columna, ordenados alfabeticamente.  \n",
    "## A,8  \n",
    "## B,7  \n",
    "## C,5  \n",
    "## D,6  \n",
    "## E,14  \n",
    "~~~"
   ]
  },
  {
   "cell_type": "code",
   "execution_count": 22,
   "metadata": {},
   "outputs": [],
   "source": [
    "from itertools import groupby\n",
    "from operator import itemgetter"
   ]
  },
  {
   "cell_type": "code",
   "execution_count": 27,
   "metadata": {},
   "outputs": [
    {
     "data": {
      "text/plain": [
       "[['A', 8], ['B', 7], ['C', 5], ['D', 6], ['E', 14]]"
      ]
     },
     "execution_count": 27,
     "metadata": {},
     "output_type": "execute_result"
    }
   ],
   "source": [
    "#sorted(mail, key=itemgetter(1)), itemgetter(1)\n",
    "group = [[key, len(list(group))] for key, group in groupby(sorted(file, key=itemgetter(0)), itemgetter(0))]\n",
    "group"
   ]
  },
  {
   "cell_type": "code",
   "execution_count": 30,
   "metadata": {},
   "outputs": [
    {
     "name": "stdout",
     "output_type": "stream",
     "text": [
      "A,8\n",
      "B,7\n",
      "C,5\n",
      "D,6\n",
      "E,14\n"
     ]
    }
   ],
   "source": [
    "for element in group:\n",
    "    print(f'{element[0]},{element[1]}')"
   ]
  },
  {
   "cell_type": "markdown",
   "metadata": {},
   "source": [
    "### q03.py\n",
    "\n",
    "~~~\n",
    "##\n",
    "## Imprima la suma de la columna 2 por cada letra de la \n",
    "## primera columna, ordneados alfabeticamente.\n",
    "##\n",
    "## A,37\n",
    "## B,36\n",
    "## C,27\n",
    "## D,23\n",
    "## E,67\n",
    "##\n",
    "~~~"
   ]
  },
  {
   "cell_type": "code",
   "execution_count": 33,
   "metadata": {},
   "outputs": [
    {
     "name": "stdout",
     "output_type": "stream",
     "text": [
      "A,37\n",
      "B,36\n",
      "C,27\n",
      "D,23\n",
      "E,67\n"
     ]
    }
   ],
   "source": [
    "for key, group in groupby(sorted(file, key=itemgetter(0)), itemgetter(0)):\n",
    "    suma = sum([int(row[1]) for row in group])\n",
    "    print(f'{key},{suma}')"
   ]
  },
  {
   "cell_type": "markdown",
   "metadata": {},
   "source": [
    "### q04.py\n",
    "\n",
    "~~~\n",
    "##\n",
    "## Imprima la cantidad de registros por cada mes.\n",
    "##\n",
    "## 01,3\n",
    "## 02,4\n",
    "## 03,2\n",
    "## 04,4\n",
    "## 05,3\n",
    "## 06,3\n",
    "## 07,5\n",
    "## 08,6\n",
    "## 09,3\n",
    "## 10,2\n",
    "## 11,2\n",
    "## 12,3\n",
    "##\n",
    "~~~"
   ]
  },
  {
   "cell_type": "code",
   "execution_count": 36,
   "metadata": {},
   "outputs": [
    {
     "name": "stdout",
     "output_type": "stream",
     "text": [
      "01,3\n",
      "02,4\n",
      "03,2\n",
      "04,4\n",
      "05,3\n",
      "06,3\n",
      "07,5\n",
      "08,6\n",
      "09,3\n",
      "10,2\n",
      "11,2\n",
      "12,3\n"
     ]
    }
   ],
   "source": [
    "date_file = [row[2].split('-') for row in file]\n",
    "\n",
    "for key, group in groupby(sorted(date_file, key=itemgetter(1)), itemgetter(1)):\n",
    "     print(f'{key},{len(list(group))}')"
   ]
  }
 ],
 "metadata": {
  "kernelspec": {
   "display_name": "Python 3",
   "language": "python",
   "name": "python3"
  },
  "language_info": {
   "codemirror_mode": {
    "name": "ipython",
    "version": 3
   },
   "file_extension": ".py",
   "mimetype": "text/x-python",
   "name": "python",
   "nbconvert_exporter": "python",
   "pygments_lexer": "ipython3",
   "version": "3.6.6"
  }
 },
 "nbformat": 4,
 "nbformat_minor": 2
}
